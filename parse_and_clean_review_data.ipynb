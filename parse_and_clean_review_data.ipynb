{
 "cells": [
  {
   "cell_type": "code",
   "execution_count": 1,
   "metadata": {
    "id": "f5NDXrN2CtH7"
   },
   "outputs": [],
   "source": [
    "import os\n",
    "import json\n",
    "import gzip\n",
    "import pandas as pd\n",
    "from urllib.request import urlopen"
   ]
  },
  {
   "cell_type": "code",
   "execution_count": null,
   "metadata": {
    "colab": {
     "base_uri": "https://localhost:8080/",
     "height": 204
    },
    "id": "feWoOrmt4Tja",
    "outputId": "963508d3-a264-4323-c160-dd046b3a1703"
   },
   "outputs": [],
   "source": [
    "# !wget http://deepyeti.ucsd.edu/jianmo/amazon/sample/meta_Computers.json.gz"
   ]
  },
  {
   "cell_type": "code",
   "execution_count": 2,
   "metadata": {
    "colab": {
     "base_uri": "https://localhost:8080/",
     "height": 71
    },
    "id": "7igYuRaV4bF7",
    "outputId": "c0595e40-c850-43b2-d32a-43cb2cbd0e1f"
   },
   "outputs": [
    {
     "name": "stdout",
     "output_type": "stream",
     "text": [
      "0\n",
      "10000\n",
      "20000\n",
      "30000\n",
      "40000\n",
      "50000\n",
      "60000\n",
      "70000\n",
      "80000\n",
      "90000\n",
      "100000\n",
      "100000\n",
      "{'overall': 1.0, 'verified': False, 'reviewTime': '12 11, 2015', 'reviewerID': 'A27BTSGLXK2C5K', 'asin': 'B017O9P72A', 'reviewerName': 'Jacob M. Wessler', 'reviewText': \"Alexa is not able to control my lights. If I ask her to tell me what LIFX can do, she will give me an example with one of my group names. If I use that exact same group name in a new request, she'll await that she doesn't recognize the name. This skill is VERY buggy and has not yet worked for me. I even rest Alexa, uninstalled LIFX, and set everything up again.\", 'summary': \"VERY Buggy, doesn't work.\", 'unixReviewTime': 1449792000}\n",
      "CPU times: user 634 ms, sys: 93.3 ms, total: 727 ms\n",
      "Wall time: 12.5 s\n"
     ]
    }
   ],
   "source": [
    "%%time\n",
    "\n",
    "### load the meta data\n",
    "\n",
    "data = []\n",
    "cnt = 0\n",
    "# with gzip.open('meta_Computers.json.gz') as f:\n",
    "with open('All_Amazon_Review.json', 'r') as f:\n",
    "    for l in f:\n",
    "        if cnt%10000==0:\n",
    "            print(cnt)\n",
    "        if cnt >= 100000:\n",
    "            break\n",
    "        data.append(json.loads(l.strip()))\n",
    "        cnt += 1\n",
    "    \n",
    "# total length of list, this number equals total number of products\n",
    "print(len(data))\n",
    "\n",
    "# first row of the list\n",
    "print(data[0])"
   ]
  },
  {
   "cell_type": "code",
   "execution_count": 3,
   "metadata": {
    "colab": {
     "base_uri": "https://localhost:8080/",
     "height": 34
    },
    "id": "knpHP22w4scK",
    "outputId": "b75be678-1377-4b8c-b689-56e1eab703b8"
   },
   "outputs": [
    {
     "name": "stdout",
     "output_type": "stream",
     "text": [
      "100000\n"
     ]
    }
   ],
   "source": [
    "# convert list into pandas dataframe\n",
    "\n",
    "df = pd.DataFrame.from_dict(data)\n",
    "\n",
    "print(len(df))"
   ]
  },
  {
   "cell_type": "code",
   "execution_count": 4,
   "metadata": {},
   "outputs": [
    {
     "data": {
      "text/html": [
       "<div>\n",
       "<style scoped>\n",
       "    .dataframe tbody tr th:only-of-type {\n",
       "        vertical-align: middle;\n",
       "    }\n",
       "\n",
       "    .dataframe tbody tr th {\n",
       "        vertical-align: top;\n",
       "    }\n",
       "\n",
       "    .dataframe thead th {\n",
       "        text-align: right;\n",
       "    }\n",
       "</style>\n",
       "<table border=\"1\" class=\"dataframe\">\n",
       "  <thead>\n",
       "    <tr style=\"text-align: right;\">\n",
       "      <th></th>\n",
       "      <th>overall</th>\n",
       "      <th>verified</th>\n",
       "      <th>reviewTime</th>\n",
       "      <th>reviewerID</th>\n",
       "      <th>asin</th>\n",
       "      <th>reviewerName</th>\n",
       "      <th>reviewText</th>\n",
       "      <th>summary</th>\n",
       "      <th>unixReviewTime</th>\n",
       "      <th>vote</th>\n",
       "      <th>image</th>\n",
       "      <th>style</th>\n",
       "    </tr>\n",
       "  </thead>\n",
       "  <tbody>\n",
       "    <tr>\n",
       "      <th>0</th>\n",
       "      <td>1.0</td>\n",
       "      <td>False</td>\n",
       "      <td>12 11, 2015</td>\n",
       "      <td>A27BTSGLXK2C5K</td>\n",
       "      <td>B017O9P72A</td>\n",
       "      <td>Jacob M. Wessler</td>\n",
       "      <td>Alexa is not able to control my lights. If I a...</td>\n",
       "      <td>VERY Buggy, doesn't work.</td>\n",
       "      <td>1449792000</td>\n",
       "      <td>NaN</td>\n",
       "      <td>NaN</td>\n",
       "      <td>NaN</td>\n",
       "    </tr>\n",
       "    <tr>\n",
       "      <th>1</th>\n",
       "      <td>4.0</td>\n",
       "      <td>False</td>\n",
       "      <td>12 8, 2015</td>\n",
       "      <td>A27ZJ1NCBFP1HZ</td>\n",
       "      <td>B017O9P72A</td>\n",
       "      <td>Greg</td>\n",
       "      <td>Alexa works great for me so far, but I'm also ...</td>\n",
       "      <td>So Far So Good</td>\n",
       "      <td>1449532800</td>\n",
       "      <td>5</td>\n",
       "      <td>NaN</td>\n",
       "      <td>NaN</td>\n",
       "    </tr>\n",
       "    <tr>\n",
       "      <th>2</th>\n",
       "      <td>1.0</td>\n",
       "      <td>False</td>\n",
       "      <td>12 7, 2015</td>\n",
       "      <td>ACCQIOZMFN4UK</td>\n",
       "      <td>B017O9P72A</td>\n",
       "      <td>Da-Gr8-1</td>\n",
       "      <td>Weak!!\\n\\nAlexa doesn't even recognize the nam...</td>\n",
       "      <td>Time waster</td>\n",
       "      <td>1449446400</td>\n",
       "      <td>11</td>\n",
       "      <td>NaN</td>\n",
       "      <td>NaN</td>\n",
       "    </tr>\n",
       "    <tr>\n",
       "      <th>3</th>\n",
       "      <td>2.0</td>\n",
       "      <td>False</td>\n",
       "      <td>12 5, 2015</td>\n",
       "      <td>A3KUPJ396OQF78</td>\n",
       "      <td>B017O9P72A</td>\n",
       "      <td>Larry Russlin</td>\n",
       "      <td>Can only control one of two bulbs from one of ...</td>\n",
       "      <td>Buggy</td>\n",
       "      <td>1449273600</td>\n",
       "      <td>NaN</td>\n",
       "      <td>NaN</td>\n",
       "      <td>NaN</td>\n",
       "    </tr>\n",
       "    <tr>\n",
       "      <th>4</th>\n",
       "      <td>1.0</td>\n",
       "      <td>False</td>\n",
       "      <td>02 2, 2018</td>\n",
       "      <td>A1U1RE1ZI19E1H</td>\n",
       "      <td>B017O9P72A</td>\n",
       "      <td>Rebekah</td>\n",
       "      <td>this worked great then randomly stopped. pleas...</td>\n",
       "      <td>stopped working</td>\n",
       "      <td>1517529600</td>\n",
       "      <td>2</td>\n",
       "      <td>NaN</td>\n",
       "      <td>NaN</td>\n",
       "    </tr>\n",
       "    <tr>\n",
       "      <th>...</th>\n",
       "      <td>...</td>\n",
       "      <td>...</td>\n",
       "      <td>...</td>\n",
       "      <td>...</td>\n",
       "      <td>...</td>\n",
       "      <td>...</td>\n",
       "      <td>...</td>\n",
       "      <td>...</td>\n",
       "      <td>...</td>\n",
       "      <td>...</td>\n",
       "      <td>...</td>\n",
       "      <td>...</td>\n",
       "    </tr>\n",
       "    <tr>\n",
       "      <th>99995</th>\n",
       "      <td>5.0</td>\n",
       "      <td>True</td>\n",
       "      <td>01 21, 2012</td>\n",
       "      <td>AE9K1E87RRX01</td>\n",
       "      <td>B000VYOPTW</td>\n",
       "      <td>ohitsashoe</td>\n",
       "      <td>I LOVE this stuff! I have been searching for s...</td>\n",
       "      <td>Long pretty lashes!</td>\n",
       "      <td>1327104000</td>\n",
       "      <td>2</td>\n",
       "      <td>NaN</td>\n",
       "      <td>NaN</td>\n",
       "    </tr>\n",
       "    <tr>\n",
       "      <th>99996</th>\n",
       "      <td>4.0</td>\n",
       "      <td>True</td>\n",
       "      <td>01 21, 2012</td>\n",
       "      <td>APJFEBYXN00VT</td>\n",
       "      <td>B000VYOPTW</td>\n",
       "      <td>FR</td>\n",
       "      <td>After reading all the fab reviews on this prod...</td>\n",
       "      <td>I'M SO CONFUSED???????????????????????</td>\n",
       "      <td>1327104000</td>\n",
       "      <td>NaN</td>\n",
       "      <td>NaN</td>\n",
       "      <td>NaN</td>\n",
       "    </tr>\n",
       "    <tr>\n",
       "      <th>99997</th>\n",
       "      <td>5.0</td>\n",
       "      <td>True</td>\n",
       "      <td>01 12, 2012</td>\n",
       "      <td>A1APM8FDUTLPQU</td>\n",
       "      <td>B000VYOPTW</td>\n",
       "      <td>JJ</td>\n",
       "      <td>THESE LIL LASHES IN A BOTTLE ARE JUST PERFECT!...</td>\n",
       "      <td>LOVE IT!!!</td>\n",
       "      <td>1326326400</td>\n",
       "      <td>NaN</td>\n",
       "      <td>NaN</td>\n",
       "      <td>NaN</td>\n",
       "    </tr>\n",
       "    <tr>\n",
       "      <th>99998</th>\n",
       "      <td>5.0</td>\n",
       "      <td>True</td>\n",
       "      <td>12 21, 2011</td>\n",
       "      <td>ADLX8CYXBYWDH</td>\n",
       "      <td>B000VYOPTW</td>\n",
       "      <td>mic</td>\n",
       "      <td>I have ordered this product not long ago.  I l...</td>\n",
       "      <td>Fabulous product</td>\n",
       "      <td>1324425600</td>\n",
       "      <td>NaN</td>\n",
       "      <td>NaN</td>\n",
       "      <td>NaN</td>\n",
       "    </tr>\n",
       "    <tr>\n",
       "      <th>99999</th>\n",
       "      <td>1.0</td>\n",
       "      <td>True</td>\n",
       "      <td>09 28, 2011</td>\n",
       "      <td>A19C0HOK2JBL3Z</td>\n",
       "      <td>B000VYOPTW</td>\n",
       "      <td>ARAIGNEE</td>\n",
       "      <td>Product arrived quickly and nicely packaged.  ...</td>\n",
       "      <td>Not quite as described</td>\n",
       "      <td>1317168000</td>\n",
       "      <td>NaN</td>\n",
       "      <td>NaN</td>\n",
       "      <td>NaN</td>\n",
       "    </tr>\n",
       "  </tbody>\n",
       "</table>\n",
       "<p>100000 rows × 12 columns</p>\n",
       "</div>"
      ],
      "text/plain": [
       "       overall  verified   reviewTime      reviewerID        asin  \\\n",
       "0          1.0     False  12 11, 2015  A27BTSGLXK2C5K  B017O9P72A   \n",
       "1          4.0     False   12 8, 2015  A27ZJ1NCBFP1HZ  B017O9P72A   \n",
       "2          1.0     False   12 7, 2015   ACCQIOZMFN4UK  B017O9P72A   \n",
       "3          2.0     False   12 5, 2015  A3KUPJ396OQF78  B017O9P72A   \n",
       "4          1.0     False   02 2, 2018  A1U1RE1ZI19E1H  B017O9P72A   \n",
       "...        ...       ...          ...             ...         ...   \n",
       "99995      5.0      True  01 21, 2012   AE9K1E87RRX01  B000VYOPTW   \n",
       "99996      4.0      True  01 21, 2012   APJFEBYXN00VT  B000VYOPTW   \n",
       "99997      5.0      True  01 12, 2012  A1APM8FDUTLPQU  B000VYOPTW   \n",
       "99998      5.0      True  12 21, 2011   ADLX8CYXBYWDH  B000VYOPTW   \n",
       "99999      1.0      True  09 28, 2011  A19C0HOK2JBL3Z  B000VYOPTW   \n",
       "\n",
       "           reviewerName                                         reviewText  \\\n",
       "0      Jacob M. Wessler  Alexa is not able to control my lights. If I a...   \n",
       "1                  Greg  Alexa works great for me so far, but I'm also ...   \n",
       "2              Da-Gr8-1  Weak!!\\n\\nAlexa doesn't even recognize the nam...   \n",
       "3         Larry Russlin  Can only control one of two bulbs from one of ...   \n",
       "4               Rebekah  this worked great then randomly stopped. pleas...   \n",
       "...                 ...                                                ...   \n",
       "99995        ohitsashoe  I LOVE this stuff! I have been searching for s...   \n",
       "99996                FR  After reading all the fab reviews on this prod...   \n",
       "99997                JJ  THESE LIL LASHES IN A BOTTLE ARE JUST PERFECT!...   \n",
       "99998               mic  I have ordered this product not long ago.  I l...   \n",
       "99999          ARAIGNEE  Product arrived quickly and nicely packaged.  ...   \n",
       "\n",
       "                                      summary  unixReviewTime vote image style  \n",
       "0                   VERY Buggy, doesn't work.      1449792000  NaN   NaN   NaN  \n",
       "1                              So Far So Good      1449532800    5   NaN   NaN  \n",
       "2                                 Time waster      1449446400   11   NaN   NaN  \n",
       "3                                       Buggy      1449273600  NaN   NaN   NaN  \n",
       "4                             stopped working      1517529600    2   NaN   NaN  \n",
       "...                                       ...             ...  ...   ...   ...  \n",
       "99995                     Long pretty lashes!      1327104000    2   NaN   NaN  \n",
       "99996  I'M SO CONFUSED???????????????????????      1327104000  NaN   NaN   NaN  \n",
       "99997                              LOVE IT!!!      1326326400  NaN   NaN   NaN  \n",
       "99998                        Fabulous product      1324425600  NaN   NaN   NaN  \n",
       "99999                  Not quite as described      1317168000  NaN   NaN   NaN  \n",
       "\n",
       "[100000 rows x 12 columns]"
      ]
     },
     "execution_count": 4,
     "metadata": {},
     "output_type": "execute_result"
    }
   ],
   "source": [
    "df"
   ]
  },
  {
   "cell_type": "code",
   "execution_count": 5,
   "metadata": {
    "id": "WqZcdGp-5cui"
   },
   "outputs": [
    {
     "data": {
      "text/plain": [
       "(92174, 3269)"
      ]
     },
     "execution_count": 5,
     "metadata": {},
     "output_type": "execute_result"
    }
   ],
   "source": [
    "len(df['reviewerID'].unique()), len(df['asin'].unique())"
   ]
  },
  {
   "cell_type": "code",
   "execution_count": null,
   "metadata": {},
   "outputs": [],
   "source": []
  }
 ],
 "metadata": {
  "colab": {
   "collapsed_sections": [],
   "name": "parse_and_clean_meta_data.ipynb",
   "provenance": []
  },
  "kernelspec": {
   "display_name": "conda_python3",
   "language": "python",
   "name": "conda_python3"
  },
  "language_info": {
   "codemirror_mode": {
    "name": "ipython",
    "version": 3
   },
   "file_extension": ".py",
   "mimetype": "text/x-python",
   "name": "python",
   "nbconvert_exporter": "python",
   "pygments_lexer": "ipython3",
   "version": "3.6.13"
  }
 },
 "nbformat": 4,
 "nbformat_minor": 4
}
