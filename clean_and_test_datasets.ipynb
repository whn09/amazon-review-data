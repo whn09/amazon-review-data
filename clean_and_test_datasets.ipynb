{
 "cells": [
  {
   "cell_type": "code",
   "execution_count": null,
   "id": "002d764c",
   "metadata": {},
   "outputs": [],
   "source": [
    "!pip install datasets"
   ]
  },
  {
   "cell_type": "markdown",
   "id": "085fec5e",
   "metadata": {},
   "source": [
    "## Prepare Custom Dataset"
   ]
  },
  {
   "cell_type": "code",
   "execution_count": null,
   "id": "e53cf7aa",
   "metadata": {},
   "outputs": [],
   "source": [
    "# !wget http://deepyeti.ucsd.edu/jianmo/amazon/categoryFiles/Electronics.json.gz\n",
    "# !gzip -d Electronics.json.gz\n",
    "\n",
    "# !head -n 2000 Electronics.json > sample_train_validation.json\n",
    "# !tail -n 1000 Electronics.json > sample_test.json\n",
    "# !head -n 1000 sample_train_validation.json > sample_train.json\n",
    "# !tail -n 1000 sample_train_validation.json > sample_validation.json\n",
    "# !aws s3 cp sample_train.json s3://datalab/data/amazon-review-data/\n",
    "# !aws s3 cp sample_validation.json s3://datalab/data/amazon-review-data/\n",
    "# !aws s3 cp sample_test.json s3://datalab/data/amazon-review-data/\n",
    "\n",
    "# !head -n 1994353 Electronics.json > Electronics_train_validation.json\n",
    "# !tail -n 100000 Electronics.json > Electronics_test.json\n",
    "# !head -n 1894353 Electronics_train_validation.json > Electronics_train.json\n",
    "# !tail -n 100000 Electronics_train_validation.json > Electronics_validation.json\n",
    "# !aws s3 cp Electronics_train.json s3://datalab/data/amazon-review-data/\n",
    "# !aws s3 cp Electronics_validation.json s3://datalab/data/amazon-review-data/\n",
    "# !aws s3 cp Electronics_test.json s3://datalab/data/amazon-review-data/"
   ]
  },
  {
   "cell_type": "markdown",
   "id": "75b78ded",
   "metadata": {},
   "source": [
    "## Clean Data"
   ]
  },
  {
   "cell_type": "code",
   "execution_count": null,
   "id": "f1b61f44",
   "metadata": {
    "scrolled": true
   },
   "outputs": [],
   "source": [
    "%%time\n",
    "import json\n",
    "\n",
    "# filenames = ['sample_train.json', 'sample_validation.json', 'sample_test.json']\n",
    "filenames = ['Electronics_train.json', 'Electronics_validation.json', 'Electronics_test.json']\n",
    "for filename in filenames:\n",
    "    fout = open(filename.replace('.json', '_new.json'), 'w')\n",
    "    with open(filename, 'r') as fin:\n",
    "        print(filename)\n",
    "        for line in fin:\n",
    "            params = json.loads(line.strip())\n",
    "            flag = True\n",
    "            if 'style' in params:\n",
    "                del params['style']\n",
    "            if 'reviewText' in params:\n",
    "                if params['reviewText'] == '':\n",
    "#                     print('empty reviewText')\n",
    "                    flag = False\n",
    "            else:\n",
    "#                 print('no reviewText')\n",
    "                flag = False\n",
    "            if 'summary' in params:\n",
    "                if params['summary'] == '':\n",
    "#                     print('empty summary')\n",
    "                    flag = False\n",
    "            else:\n",
    "#                 print('no summary')\n",
    "                flag = False\n",
    "            if flag:\n",
    "                fout.write(json.dumps(params)+'\\n')\n",
    "    fout.close()"
   ]
  },
  {
   "cell_type": "code",
   "execution_count": null,
   "id": "8cac160c",
   "metadata": {},
   "outputs": [],
   "source": [
    "# !aws s3 cp sample_train_new.json s3://datalab/data/amazon-review-data/\n",
    "# !aws s3 cp sample_validation_new.json s3://datalab/data/amazon-review-data/\n",
    "# !aws s3 cp sample_test_new.json s3://datalab/data/amazon-review-data/\n",
    "    \n",
    "# !aws s3 cp Electronics_train_new.json s3://datalab/data/amazon-review-data/\n",
    "# !aws s3 cp Electronics_validation_new.json s3://datalab/data/amazon-review-data/\n",
    "# !aws s3 cp Electronics_test_new.json s3://datalab/data/amazon-review-data/"
   ]
  },
  {
   "cell_type": "markdown",
   "id": "1584609e",
   "metadata": {},
   "source": [
    "## Test load_dataset"
   ]
  },
  {
   "cell_type": "code",
   "execution_count": null,
   "id": "424e0ca3",
   "metadata": {},
   "outputs": [],
   "source": [
    "from datasets import load_dataset, Features, Value"
   ]
  },
  {
   "cell_type": "code",
   "execution_count": null,
   "id": "6a8f7892",
   "metadata": {},
   "outputs": [],
   "source": [
    "# data_files = {'train': 'sample_train_new.json', 'validation': 'sample_validation_new.json' , 'test': 'sample_test_new.json'}\n",
    "data_files = {'train': 'Electronics_train_new.json', 'validation': 'Electronics_validation_new.json' , 'test': 'Electronics_test_new.json'}\n",
    "extension = 'json'\n",
    "# columns = ['overall', 'verified', 'reviewTime', 'reviewerID', 'asin', 'reviewerName', 'reviewText', 'summary', 'unixReviewTime', 'vote', 'style', 'image']\n",
    "# column_features = {}\n",
    "# for column in columns:\n",
    "#     column_features['reviewText'] = Value(dtype='string', id=None)\n",
    "raw_datasets = load_dataset(extension, data_files=data_files)  # , features=Features(column_features)"
   ]
  },
  {
   "cell_type": "code",
   "execution_count": null,
   "id": "0bd77729",
   "metadata": {},
   "outputs": [],
   "source": []
  }
 ],
 "metadata": {
  "kernelspec": {
   "display_name": "conda_pytorch_latest_p36",
   "language": "python",
   "name": "conda_pytorch_latest_p36"
  },
  "language_info": {
   "codemirror_mode": {
    "name": "ipython",
    "version": 3
   },
   "file_extension": ".py",
   "mimetype": "text/x-python",
   "name": "python",
   "nbconvert_exporter": "python",
   "pygments_lexer": "ipython3",
   "version": "3.6.13"
  }
 },
 "nbformat": 4,
 "nbformat_minor": 5
}
